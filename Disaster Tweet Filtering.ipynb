{
 "cells": [
  {
   "cell_type": "code",
   "execution_count": null,
   "id": "5e98a731-7220-41ad-a2b5-2d327781255f",
   "metadata": {},
   "outputs": [],
   "source": [
    "import pandas as pd\n",
    "import re\n",
    "from textblob import TextBlob\n",
    "from sklearn.model_selection import train_test_split\n",
    "from sklearn.feature_extraction.text import TfidfVectorizer\n",
    "from sklearn.linear_model import LogisticRegression\n",
    "from sklearn.metrics import classification_report, accuracy_score\n",
    "from nltk.corpus import stopwords\n",
    "from nltk.stem import WordNetLemmatizer\n",
    "import nltk"
   ]
  },
  {
   "cell_type": "code",
   "execution_count": null,
   "id": "f95a01b8-2589-4dbf-be15-f2f451bba2dd",
   "metadata": {
    "scrolled": true
   },
   "outputs": [],
   "source": [
    "nltk.download('stopwords')\n",
    "nltk.download('wordnet')"
   ]
  },
  {
   "cell_type": "code",
   "execution_count": null,
   "id": "7cc6d126-1dc9-41fe-8532-ab774ecd0506",
   "metadata": {},
   "outputs": [],
   "source": [
    "stop_words = set(stopwords.words('english'))\n",
    "lemmatizer = WordNetLemmatizer()"
   ]
  },
  {
   "cell_type": "code",
   "execution_count": null,
   "id": "f5b8afe0-e4cf-400d-bd92-f6b60933dc27",
   "metadata": {},
   "outputs": [],
   "source": [
    "train_df = pd.read_csv(\"E:/Kaggle/nlp-getting-started/train.csv\")\n",
    "test_df = pd.read_csv(\"E:/Kaggle/nlp-getting-started/test.csv\")"
   ]
  },
  {
   "cell_type": "code",
   "execution_count": null,
   "id": "3243729b-28d5-49d0-ab14-f04274fdb89e",
   "metadata": {},
   "outputs": [],
   "source": [
    "train_df.head()"
   ]
  },
  {
   "cell_type": "code",
   "execution_count": null,
   "id": "ec5faaa2-b6d8-4803-957f-3fc7bdbae0b1",
   "metadata": {},
   "outputs": [],
   "source": [
    "def clean_text_with_textblob(text):\n",
    "    text = re.sub(r\"http\\S+\", \"\", text)\n",
    "    text = re.sub(r\"[^a-zA-Z0-9\\s]\", \"\", text).lower()\n",
    "    corrected_text = str(TextBlob(text).correct())\n",
    "    return corrected_text\n",
    "\n",
    "def preprocess_text(text):\n",
    "    text = clean_text_with_textblob(text)\n",
    "    tokens = text.split()\n",
    "    tokens = [lemmatizer.lemmatize(word) for word in tokens if word not in stop_words]\n",
    "    return \" \".join(tokens)"
   ]
  },
  {
   "cell_type": "code",
   "execution_count": null,
   "id": "dba6337b-3367-46c8-9d71-2495fdef48aa",
   "metadata": {},
   "outputs": [],
   "source": [
    "train_df['cleaned_text'] = train_df['text'].apply(preprocess_text)\n",
    "test_df['cleaned_text'] = test_df['text'].apply(preprocess_text)"
   ]
  },
  {
   "cell_type": "code",
   "execution_count": null,
   "id": "020cd7be-36d2-4bbb-a327-fd08c7d0047c",
   "metadata": {},
   "outputs": [],
   "source": [
    "X = train_df['cleaned_text']\n",
    "y = train_df['target']\n",
    "X_train, X_val, y_train, y_val = train_test_split(X, y, test_size=0.2, random_state=42)"
   ]
  },
  {
   "cell_type": "code",
   "execution_count": null,
   "id": "9addf410-448d-4e07-bffc-d5e667945df7",
   "metadata": {},
   "outputs": [],
   "source": [
    "vectorizer = TfidfVectorizer(ngram_range=(1, 3))\n",
    "X_train_tfidf = vectorizer.fit_transform(X_train)\n",
    "X_val_tfidf = vectorizer.transform(X_val)\n",
    "X_test_tfidf = vectorizer.transform(test_df['cleaned_text'])"
   ]
  },
  {
   "cell_type": "code",
   "execution_count": null,
   "id": "702ec750-f2a0-4255-b21c-10a8f3ef8e62",
   "metadata": {},
   "outputs": [],
   "source": [
    "model = LogisticRegression(random_state=42, max_iter=200)\n",
    "model.fit(X_train_tfidf, y_train)"
   ]
  },
  {
   "cell_type": "code",
   "execution_count": null,
   "id": "d22a4652-86f6-4399-b7bc-50c1094c4f92",
   "metadata": {},
   "outputs": [],
   "source": [
    "y_val_pred = model.predict(X_val_tfidf)\n",
    "print(\"Validation Accuracy:\", accuracy_score(y_val, y_val_pred))\n",
    "print(\"\\nClassification Report:\\n\", classification_report(y_val, y_val_pred))"
   ]
  },
  {
   "cell_type": "code",
   "execution_count": null,
   "id": "873605b6-e36a-41ca-82f1-5d581fe94b74",
   "metadata": {},
   "outputs": [],
   "source": [
    "test_df['predictions'] = model.predict(X_test_tfidf)"
   ]
  },
  {
   "cell_type": "code",
   "execution_count": null,
   "id": "d6baac72-7b44-4e9d-9b89-191f71c8fd83",
   "metadata": {},
   "outputs": [],
   "source": [
    "submission = test_df[['id', 'predictions']].rename(columns={'predictions': 'target'})\n",
    "submission.to_csv('submission.csv', index=False)"
   ]
  },
  {
   "cell_type": "code",
   "execution_count": null,
   "id": "926ed629-7eb8-46bc-82e9-d3a24a40e6bc",
   "metadata": {},
   "outputs": [],
   "source": []
  }
 ],
 "metadata": {
  "kernelspec": {
   "display_name": "Python 3 (ipykernel)",
   "language": "python",
   "name": "python3"
  },
  "language_info": {
   "codemirror_mode": {
    "name": "ipython",
    "version": 3
   },
   "file_extension": ".py",
   "mimetype": "text/x-python",
   "name": "python",
   "nbconvert_exporter": "python",
   "pygments_lexer": "ipython3",
   "version": "3.10.5"
  }
 },
 "nbformat": 4,
 "nbformat_minor": 5
}
